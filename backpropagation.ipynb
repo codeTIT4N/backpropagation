{
 "cells": [
  {
   "cell_type": "code",
   "execution_count": null,
   "id": "prostate-collar",
   "metadata": {},
   "outputs": [],
   "source": []
  },
  {
   "cell_type": "code",
   "execution_count": 21,
   "id": "demographic-panel",
   "metadata": {},
   "outputs": [
    {
     "data": {
      "text/plain": [
       "'2.4.0-rc0'"
      ]
     },
     "execution_count": 21,
     "metadata": {},
     "output_type": "execute_result"
    }
   ],
   "source": [
    "# Artificial Neural Network\n",
    "### Importing the libraries\n",
    "import numpy as np\n",
    "import pandas as pd\n",
    "import tensorflow as tf\n",
    "tf.__version__"
   ]
  },
  {
   "cell_type": "code",
   "execution_count": 22,
   "id": "written-fruit",
   "metadata": {},
   "outputs": [
    {
     "name": "stdout",
     "output_type": "stream",
     "text": [
      "[[619 'France' 'Female' ... 1 1 101348.88]\n",
      " [608 'Spain' 'Female' ... 0 1 112542.58]\n",
      " [502 'France' 'Female' ... 1 0 113931.57]\n",
      " ...\n",
      " [709 'France' 'Female' ... 0 1 42085.58]\n",
      " [772 'Germany' 'Male' ... 1 0 92888.52]\n",
      " [792 'France' 'Female' ... 1 0 38190.78]]\n",
      "[1 0 1 ... 1 1 0]\n"
     ]
    }
   ],
   "source": [
    "## Part 1 - Data Preprocessing\n",
    "### Importing the dataset\n",
    "\n",
    "dataset = pd.read_csv('Churn_Modelling.csv')\n",
    "X = dataset.iloc[:, 3:-1].values\n",
    "y = dataset.iloc[:, -1].values\n",
    "print(X)\n",
    "print(y)"
   ]
  },
  {
   "cell_type": "code",
   "execution_count": 23,
   "id": "pretty-landing",
   "metadata": {},
   "outputs": [
    {
     "name": "stdout",
     "output_type": "stream",
     "text": [
      "[[619 'France' 0 ... 1 1 101348.88]\n",
      " [608 'Spain' 0 ... 0 1 112542.58]\n",
      " [502 'France' 0 ... 1 0 113931.57]\n",
      " ...\n",
      " [709 'France' 0 ... 0 1 42085.58]\n",
      " [772 'Germany' 1 ... 1 0 92888.52]\n",
      " [792 'France' 0 ... 1 0 38190.78]]\n"
     ]
    }
   ],
   "source": [
    "### Encoding categorical data\n",
    "##Label Encoding the \"Gender\" column\n",
    "from sklearn.preprocessing import LabelEncoder\n",
    "le = LabelEncoder()\n",
    "X[:, 2] = le.fit_transform(X[:, 2])\n",
    "print(X)\n"
   ]
  },
  {
   "cell_type": "code",
   "execution_count": 24,
   "id": "sexual-titanium",
   "metadata": {},
   "outputs": [
    {
     "name": "stdout",
     "output_type": "stream",
     "text": [
      "[[1.0 0.0 0.0 ... 1 1 101348.88]\n",
      " [0.0 0.0 1.0 ... 0 1 112542.58]\n",
      " [1.0 0.0 0.0 ... 1 0 113931.57]\n",
      " ...\n",
      " [1.0 0.0 0.0 ... 0 1 42085.58]\n",
      " [0.0 1.0 0.0 ... 1 0 92888.52]\n",
      " [1.0 0.0 0.0 ... 1 0 38190.78]]\n"
     ]
    }
   ],
   "source": [
    "##One Hot Encoding the \"Geography\" column\n",
    "from sklearn.compose import ColumnTransformer\n",
    "from sklearn.preprocessing import OneHotEncoder\n",
    "ct = ColumnTransformer(transformers=[('encoder', OneHotEncoder(), [1])], remainder='passthrough')\n",
    "X = np.array(ct.fit_transform(X))\n",
    "print(X)"
   ]
  },
  {
   "cell_type": "code",
   "execution_count": 25,
   "id": "sunset-costa",
   "metadata": {},
   "outputs": [],
   "source": [
    "###Splitting the dataset into the Training set and Test set\n",
    "from sklearn.model_selection import train_test_split\n",
    "X_train, X_test, y_train, y_test = train_test_split(X, y, test_size = 0.2, random_state = 0)\n",
    "### Feature Scaling\n",
    "from sklearn.preprocessing import StandardScaler\n",
    "sc = StandardScaler()\n",
    "X_train = sc.fit_transform(X_train)\n",
    "X_test = sc.transform(X_test)"
   ]
  },
  {
   "cell_type": "code",
   "execution_count": 26,
   "id": "amended-philippines",
   "metadata": {},
   "outputs": [],
   "source": [
    "##Part 2 - Building the ANN\n",
    "###Initializing the ANN\n",
    "ann = tf.keras.models.Sequential()"
   ]
  },
  {
   "cell_type": "code",
   "execution_count": 27,
   "id": "rising-french",
   "metadata": {},
   "outputs": [],
   "source": [
    "##Adding the input layer and the first hidden layer\n",
    "ann.add(tf.keras.layers.Dense(units=6, activation='relu'))"
   ]
  },
  {
   "cell_type": "code",
   "execution_count": 28,
   "id": "civic-letter",
   "metadata": {},
   "outputs": [],
   "source": [
    "###Adding the second hidden layer\n",
    "ann.add(tf.keras.layers.Dense(units=6, activation='relu'))\n",
    "### Adding the output layer\n",
    "ann.add(tf.keras.layers.Dense(units=1, activation='sigmoid'))"
   ]
  },
  {
   "cell_type": "code",
   "execution_count": 29,
   "id": "informational-green",
   "metadata": {},
   "outputs": [
    {
     "name": "stdout",
     "output_type": "stream",
     "text": [
      "Epoch 1/100\n",
      "250/250 [==============================] - 0s 297us/step - loss: 0.5563 - accuracy: 0.8022\n",
      "Epoch 2/100\n",
      "250/250 [==============================] - 0s 289us/step - loss: 0.4890 - accuracy: 0.7913\n",
      "Epoch 3/100\n",
      "250/250 [==============================] - 0s 293us/step - loss: 0.4506 - accuracy: 0.7998\n",
      "Epoch 4/100\n",
      "250/250 [==============================] - 0s 293us/step - loss: 0.4259 - accuracy: 0.8117\n",
      "Epoch 5/100\n",
      "250/250 [==============================] - 0s 299us/step - loss: 0.4115 - accuracy: 0.8183\n",
      "Epoch 6/100\n",
      "250/250 [==============================] - 0s 289us/step - loss: 0.4014 - accuracy: 0.8251\n",
      "Epoch 7/100\n",
      "250/250 [==============================] - 0s 287us/step - loss: 0.3871 - accuracy: 0.8348\n",
      "Epoch 8/100\n",
      "250/250 [==============================] - 0s 295us/step - loss: 0.3886 - accuracy: 0.8328\n",
      "Epoch 9/100\n",
      "250/250 [==============================] - 0s 293us/step - loss: 0.3726 - accuracy: 0.8501\n",
      "Epoch 10/100\n",
      "250/250 [==============================] - 0s 307us/step - loss: 0.3726 - accuracy: 0.8469\n",
      "Epoch 11/100\n",
      "250/250 [==============================] - 0s 301us/step - loss: 0.3693 - accuracy: 0.8529\n",
      "Epoch 12/100\n",
      "250/250 [==============================] - 0s 297us/step - loss: 0.3596 - accuracy: 0.8587\n",
      "Epoch 13/100\n",
      "250/250 [==============================] - 0s 308us/step - loss: 0.3476 - accuracy: 0.8644\n",
      "Epoch 14/100\n",
      "250/250 [==============================] - 0s 299us/step - loss: 0.3404 - accuracy: 0.8675\n",
      "Epoch 15/100\n",
      "250/250 [==============================] - 0s 286us/step - loss: 0.3509 - accuracy: 0.8561\n",
      "Epoch 16/100\n",
      "250/250 [==============================] - 0s 295us/step - loss: 0.3455 - accuracy: 0.8609\n",
      "Epoch 17/100\n",
      "250/250 [==============================] - 0s 289us/step - loss: 0.3467 - accuracy: 0.8609\n",
      "Epoch 18/100\n",
      "250/250 [==============================] - 0s 289us/step - loss: 0.3519 - accuracy: 0.8574\n",
      "Epoch 19/100\n",
      "250/250 [==============================] - 0s 292us/step - loss: 0.3473 - accuracy: 0.8570\n",
      "Epoch 20/100\n",
      "250/250 [==============================] - 0s 289us/step - loss: 0.3340 - accuracy: 0.8666\n",
      "Epoch 21/100\n",
      "250/250 [==============================] - 0s 288us/step - loss: 0.3519 - accuracy: 0.8557\n",
      "Epoch 22/100\n",
      "250/250 [==============================] - 0s 299us/step - loss: 0.3396 - accuracy: 0.8581\n",
      "Epoch 23/100\n",
      "250/250 [==============================] - 0s 296us/step - loss: 0.3269 - accuracy: 0.8654\n",
      "Epoch 24/100\n",
      "250/250 [==============================] - 0s 300us/step - loss: 0.3380 - accuracy: 0.8636\n",
      "Epoch 25/100\n",
      "250/250 [==============================] - 0s 305us/step - loss: 0.3391 - accuracy: 0.8626\n",
      "Epoch 26/100\n",
      "250/250 [==============================] - 0s 291us/step - loss: 0.3392 - accuracy: 0.8624\n",
      "Epoch 27/100\n",
      "250/250 [==============================] - 0s 291us/step - loss: 0.3435 - accuracy: 0.8579\n",
      "Epoch 28/100\n",
      "250/250 [==============================] - 0s 293us/step - loss: 0.3436 - accuracy: 0.8634\n",
      "Epoch 29/100\n",
      "250/250 [==============================] - 0s 289us/step - loss: 0.3314 - accuracy: 0.8679\n",
      "Epoch 30/100\n",
      "250/250 [==============================] - 0s 292us/step - loss: 0.3315 - accuracy: 0.8678\n",
      "Epoch 31/100\n",
      "250/250 [==============================] - 0s 295us/step - loss: 0.3322 - accuracy: 0.8643\n",
      "Epoch 32/100\n",
      "250/250 [==============================] - 0s 293us/step - loss: 0.3354 - accuracy: 0.8640\n",
      "Epoch 33/100\n",
      "250/250 [==============================] - 0s 296us/step - loss: 0.3427 - accuracy: 0.8593\n",
      "Epoch 34/100\n",
      "250/250 [==============================] - 0s 293us/step - loss: 0.3296 - accuracy: 0.8666\n",
      "Epoch 35/100\n",
      "250/250 [==============================] - 0s 288us/step - loss: 0.3336 - accuracy: 0.8656\n",
      "Epoch 36/100\n",
      "250/250 [==============================] - 0s 293us/step - loss: 0.3328 - accuracy: 0.8603\n",
      "Epoch 37/100\n",
      "250/250 [==============================] - 0s 298us/step - loss: 0.3382 - accuracy: 0.8649\n",
      "Epoch 38/100\n",
      "250/250 [==============================] - 0s 302us/step - loss: 0.3357 - accuracy: 0.8630\n",
      "Epoch 39/100\n",
      "250/250 [==============================] - 0s 300us/step - loss: 0.3343 - accuracy: 0.8652\n",
      "Epoch 40/100\n",
      "250/250 [==============================] - 0s 303us/step - loss: 0.3316 - accuracy: 0.8651\n",
      "Epoch 41/100\n",
      "250/250 [==============================] - 0s 301us/step - loss: 0.3385 - accuracy: 0.8635\n",
      "Epoch 42/100\n",
      "250/250 [==============================] - 0s 293us/step - loss: 0.3323 - accuracy: 0.8648\n",
      "Epoch 43/100\n",
      "250/250 [==============================] - 0s 295us/step - loss: 0.3281 - accuracy: 0.8707\n",
      "Epoch 44/100\n",
      "250/250 [==============================] - 0s 296us/step - loss: 0.3383 - accuracy: 0.8646\n",
      "Epoch 45/100\n",
      "250/250 [==============================] - 0s 292us/step - loss: 0.3456 - accuracy: 0.8608\n",
      "Epoch 46/100\n",
      "250/250 [==============================] - 0s 295us/step - loss: 0.3451 - accuracy: 0.8564\n",
      "Epoch 47/100\n",
      "250/250 [==============================] - 0s 291us/step - loss: 0.3430 - accuracy: 0.8611\n",
      "Epoch 48/100\n",
      "250/250 [==============================] - 0s 296us/step - loss: 0.3195 - accuracy: 0.8692\n",
      "Epoch 49/100\n",
      "250/250 [==============================] - 0s 291us/step - loss: 0.3480 - accuracy: 0.8530\n",
      "Epoch 50/100\n",
      "250/250 [==============================] - 0s 293us/step - loss: 0.3372 - accuracy: 0.8583\n",
      "Epoch 51/100\n",
      "250/250 [==============================] - 0s 355us/step - loss: 0.3314 - accuracy: 0.8640\n",
      "Epoch 52/100\n",
      "250/250 [==============================] - 0s 295us/step - loss: 0.3441 - accuracy: 0.8591\n",
      "Epoch 53/100\n",
      "250/250 [==============================] - 0s 292us/step - loss: 0.3324 - accuracy: 0.8633\n",
      "Epoch 54/100\n",
      "250/250 [==============================] - 0s 290us/step - loss: 0.3396 - accuracy: 0.8608\n",
      "Epoch 55/100\n",
      "250/250 [==============================] - 0s 290us/step - loss: 0.3397 - accuracy: 0.8606\n",
      "Epoch 56/100\n",
      "250/250 [==============================] - 0s 293us/step - loss: 0.3300 - accuracy: 0.8650\n",
      "Epoch 57/100\n",
      "250/250 [==============================] - 0s 294us/step - loss: 0.3365 - accuracy: 0.8612\n",
      "Epoch 58/100\n",
      "250/250 [==============================] - 0s 293us/step - loss: 0.3296 - accuracy: 0.8659\n",
      "Epoch 59/100\n",
      "250/250 [==============================] - 0s 288us/step - loss: 0.3259 - accuracy: 0.8680\n",
      "Epoch 60/100\n",
      "250/250 [==============================] - 0s 289us/step - loss: 0.3278 - accuracy: 0.8655\n",
      "Epoch 61/100\n",
      "250/250 [==============================] - 0s 293us/step - loss: 0.3396 - accuracy: 0.8636\n",
      "Epoch 62/100\n",
      "250/250 [==============================] - 0s 322us/step - loss: 0.3278 - accuracy: 0.8669\n",
      "Epoch 63/100\n",
      "250/250 [==============================] - 0s 332us/step - loss: 0.3314 - accuracy: 0.8665\n",
      "Epoch 64/100\n",
      "250/250 [==============================] - 0s 312us/step - loss: 0.3363 - accuracy: 0.8606\n",
      "Epoch 65/100\n",
      "250/250 [==============================] - 0s 328us/step - loss: 0.3346 - accuracy: 0.8651\n",
      "Epoch 66/100\n",
      "250/250 [==============================] - 0s 300us/step - loss: 0.3323 - accuracy: 0.8606\n",
      "Epoch 67/100\n",
      "250/250 [==============================] - 0s 306us/step - loss: 0.3331 - accuracy: 0.8627\n",
      "Epoch 68/100\n",
      "250/250 [==============================] - 0s 303us/step - loss: 0.3454 - accuracy: 0.8585\n",
      "Epoch 69/100\n",
      "250/250 [==============================] - 0s 302us/step - loss: 0.3359 - accuracy: 0.8640\n",
      "Epoch 70/100\n",
      "250/250 [==============================] - 0s 307us/step - loss: 0.3308 - accuracy: 0.8679\n",
      "Epoch 71/100\n",
      "250/250 [==============================] - 0s 316us/step - loss: 0.3242 - accuracy: 0.8662\n",
      "Epoch 72/100\n",
      "250/250 [==============================] - 0s 291us/step - loss: 0.3352 - accuracy: 0.8602\n",
      "Epoch 73/100\n",
      "250/250 [==============================] - 0s 289us/step - loss: 0.3396 - accuracy: 0.8616\n",
      "Epoch 74/100\n",
      "250/250 [==============================] - 0s 289us/step - loss: 0.3282 - accuracy: 0.8689\n",
      "Epoch 75/100\n",
      "250/250 [==============================] - 0s 290us/step - loss: 0.3334 - accuracy: 0.8636\n",
      "Epoch 76/100\n",
      "250/250 [==============================] - 0s 292us/step - loss: 0.3419 - accuracy: 0.8563\n",
      "Epoch 77/100\n",
      "250/250 [==============================] - 0s 290us/step - loss: 0.3389 - accuracy: 0.8598\n",
      "Epoch 78/100\n",
      "250/250 [==============================] - 0s 332us/step - loss: 0.3289 - accuracy: 0.8663\n",
      "Epoch 79/100\n",
      "250/250 [==============================] - 0s 298us/step - loss: 0.3418 - accuracy: 0.8587\n",
      "Epoch 80/100\n",
      "250/250 [==============================] - 0s 307us/step - loss: 0.3360 - accuracy: 0.8618\n",
      "Epoch 81/100\n",
      "250/250 [==============================] - 0s 299us/step - loss: 0.3386 - accuracy: 0.8597\n",
      "Epoch 82/100\n",
      "250/250 [==============================] - 0s 302us/step - loss: 0.3335 - accuracy: 0.8629\n",
      "Epoch 83/100\n",
      "250/250 [==============================] - 0s 295us/step - loss: 0.3326 - accuracy: 0.8634\n",
      "Epoch 84/100\n",
      "250/250 [==============================] - 0s 290us/step - loss: 0.3229 - accuracy: 0.8644\n",
      "Epoch 85/100\n",
      "250/250 [==============================] - 0s 286us/step - loss: 0.3287 - accuracy: 0.8663\n",
      "Epoch 86/100\n",
      "250/250 [==============================] - 0s 282us/step - loss: 0.3298 - accuracy: 0.8636\n",
      "Epoch 87/100\n",
      "250/250 [==============================] - 0s 286us/step - loss: 0.3294 - accuracy: 0.8653\n",
      "Epoch 88/100\n",
      "250/250 [==============================] - 0s 280us/step - loss: 0.3264 - accuracy: 0.8642\n",
      "Epoch 89/100\n",
      "250/250 [==============================] - 0s 346us/step - loss: 0.3361 - accuracy: 0.8615\n",
      "Epoch 90/100\n",
      "250/250 [==============================] - 0s 317us/step - loss: 0.3338 - accuracy: 0.8627\n",
      "Epoch 91/100\n",
      "250/250 [==============================] - 0s 339us/step - loss: 0.3270 - accuracy: 0.8653\n",
      "Epoch 92/100\n",
      "250/250 [==============================] - 0s 329us/step - loss: 0.3432 - accuracy: 0.8596\n",
      "Epoch 93/100\n",
      "250/250 [==============================] - 0s 300us/step - loss: 0.3336 - accuracy: 0.8647\n",
      "Epoch 94/100\n",
      "250/250 [==============================] - 0s 304us/step - loss: 0.3279 - accuracy: 0.8642\n",
      "Epoch 95/100\n",
      "250/250 [==============================] - 0s 299us/step - loss: 0.3291 - accuracy: 0.8669\n",
      "Epoch 96/100\n",
      "250/250 [==============================] - 0s 297us/step - loss: 0.3270 - accuracy: 0.8670\n",
      "Epoch 97/100\n",
      "250/250 [==============================] - 0s 290us/step - loss: 0.3333 - accuracy: 0.8641\n",
      "Epoch 98/100\n",
      "250/250 [==============================] - 0s 302us/step - loss: 0.3229 - accuracy: 0.8721\n",
      "Epoch 99/100\n",
      "250/250 [==============================] - 0s 289us/step - loss: 0.3332 - accuracy: 0.8642\n",
      "Epoch 100/100\n",
      "250/250 [==============================] - 0s 286us/step - loss: 0.3335 - accuracy: 0.8639\n"
     ]
    },
    {
     "data": {
      "text/plain": [
       "<tensorflow.python.keras.callbacks.History at 0x14734bc40>"
      ]
     },
     "execution_count": 29,
     "metadata": {},
     "output_type": "execute_result"
    }
   ],
   "source": [
    "## Part 3 - Training the ANN\n",
    "### Compiling the ANN\n",
    "ann.compile(optimizer = 'adam', loss = 'binary_crossentropy', metrics = ['accuracy'])\n",
    "### Training the ANN on the Training set\n",
    "ann.fit(X_train, y_train, batch_size = 32, epochs = 100)"
   ]
  },
  {
   "cell_type": "code",
   "execution_count": 30,
   "id": "unexpected-dryer",
   "metadata": {},
   "outputs": [
    {
     "name": "stdout",
     "output_type": "stream",
     "text": [
      "[[False]]\n",
      "[[0 0]\n",
      " [0 1]\n",
      " [0 0]\n",
      " ...\n",
      " [0 0]\n",
      " [0 0]\n",
      " [0 0]]\n"
     ]
    }
   ],
   "source": [
    "##Part 4 - Making the predictions and evaluating the model\n",
    "print(ann.predict(sc.transform([[1, 0, 0, 600, 1, 40, 3, 60000, 2, 1, 1, 50000]])) > 0.5)\n",
    "### Predicting the Test set results\n",
    "y_pred = ann.predict(X_test)\n",
    "y_pred = (y_pred > 0.5)\n",
    "print(np.concatenate((y_pred.reshape(len(y_pred),1), y_test.reshape(len(y_test),1)),1))"
   ]
  },
  {
   "cell_type": "code",
   "execution_count": 31,
   "id": "younger-gibraltar",
   "metadata": {},
   "outputs": [
    {
     "name": "stdout",
     "output_type": "stream",
     "text": [
      "[[1521   74]\n",
      " [ 204  201]]\n"
     ]
    },
    {
     "data": {
      "text/plain": [
       "0.861"
      ]
     },
     "execution_count": 31,
     "metadata": {},
     "output_type": "execute_result"
    }
   ],
   "source": [
    "###Making the Confusion Matrix\n",
    "from sklearn.metrics import confusion_matrix, accuracy_score\n",
    "cm = confusion_matrix(y_test, y_pred)\n",
    "print(cm)\n",
    "accuracy_score(y_test, y_pred)"
   ]
  }
 ],
 "metadata": {
  "kernelspec": {
   "display_name": "Python 3",
   "language": "python",
   "name": "python3"
  },
  "language_info": {
   "codemirror_mode": {
    "name": "ipython",
    "version": 3
   },
   "file_extension": ".py",
   "mimetype": "text/x-python",
   "name": "python",
   "nbconvert_exporter": "python",
   "pygments_lexer": "ipython3",
   "version": "3.8.6"
  },
  "varInspector": {
   "cols": {
    "lenName": 16,
    "lenType": 16,
    "lenVar": 40
   },
   "kernels_config": {
    "python": {
     "delete_cmd_postfix": "",
     "delete_cmd_prefix": "del ",
     "library": "var_list.py",
     "varRefreshCmd": "print(var_dic_list())"
    },
    "r": {
     "delete_cmd_postfix": ") ",
     "delete_cmd_prefix": "rm(",
     "library": "var_list.r",
     "varRefreshCmd": "cat(var_dic_list()) "
    }
   },
   "types_to_exclude": [
    "module",
    "function",
    "builtin_function_or_method",
    "instance",
    "_Feature"
   ],
   "window_display": false
  }
 },
 "nbformat": 4,
 "nbformat_minor": 5
}
